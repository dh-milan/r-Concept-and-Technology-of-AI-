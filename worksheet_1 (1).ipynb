{
  "nbformat": 4,
  "nbformat_minor": 0,
  "metadata": {
    "colab": {
      "provenance": []
    },
    "kernelspec": {
      "name": "python3",
      "display_name": "Python 3"
    },
    "language_info": {
      "name": "python"
    }
  },
  "cells": [
    {
      "cell_type": "markdown",
      "source": [
        "Problem - 1: Array Creation:\n",
        "Complete the following Tasks:\n",
        "1. Initialize an empty array with size 2X2.\n",
        "2. Initialize an all one array with size 4X2.\n",
        "3. Return a new array of given shape and type, filled with fill value.{Hint: np.full}\n",
        "4. Return a new array of zeros with same shape and type as a given array.{Hint: np.zeros like}\n",
        "5. Return a new array of ones with same shape and type as a given array.{Hint: np.ones like}\n",
        "6. For an existing list new_list = [1,2,3,4] convert to an numpy array.{Hint: np.array()}"
      ],
      "metadata": {
        "id": "hG0gVa3fU8iU"
      }
    },
    {
      "cell_type": "code",
      "source": [
        "import numpy as np\n",
        "\n",
        "# 1. Initialize an empty array with size 2x2\n",
        "empty_array = np.empty((2, 2))\n",
        "print(\"Empty array (2x2):\\n\", empty_array)\n",
        "\n",
        "# 2. Initialize an all-ones array with size 4x2\n",
        "ones_array = np.ones((4, 2))\n",
        "print(\"\\nAll ones array (4x2):\\n\", ones_array)\n",
        "\n",
        "# 3. Return a new array of given shape and type, filled with fill value\n",
        "# Example: shape (3, 3), fill value = 7\n",
        "filled_array = np.full((3, 3), 7)\n",
        "print(\"\\nArray filled with 7 (3x3):\\n\", filled_array)\n",
        "\n",
        "# 4. Return a new array of zeros with same shape and type as a given array\n",
        "example_array = np.array([[1, 2], [3, 4]])\n",
        "zeros_like_array = np.zeros_like(example_array)\n",
        "print(\"\\nArray of zeros with same shape as example_array:\\n\", zeros_like_array)\n",
        "\n",
        "# 5. Return a new array of ones with same shape and type as a given array\n",
        "ones_like_array = np.ones_like(example_array)\n",
        "print(\"\\nArray of ones with same shape as example_array:\\n\", ones_like_array)\n",
        "\n",
        "# 6. Convert an existing list to a numpy array\n",
        "new_list = [1, 2, 3, 4]\n",
        "converted_array = np.array(new_list)\n",
        "print(\"\\nConverted numpy array from list:\\n\", converted_array)\n"
      ],
      "metadata": {
        "colab": {
          "base_uri": "https://localhost:8080/"
        },
        "id": "ufqM9FaUVElR",
        "outputId": "2869b2e5-1755-4063-b2c6-1bc6847d0747"
      },
      "execution_count": null,
      "outputs": [
        {
          "output_type": "stream",
          "name": "stdout",
          "text": [
            "Empty array (2x2):\n",
            " [[4.86104841e-310 0.00000000e+000]\n",
            " [3.28097404e-085 6.55435014e-310]]\n",
            "\n",
            "All ones array (4x2):\n",
            " [[1. 1.]\n",
            " [1. 1.]\n",
            " [1. 1.]\n",
            " [1. 1.]]\n",
            "\n",
            "Array filled with 7 (3x3):\n",
            " [[7 7 7]\n",
            " [7 7 7]\n",
            " [7 7 7]]\n",
            "\n",
            "Array of zeros with same shape as example_array:\n",
            " [[0 0]\n",
            " [0 0]]\n",
            "\n",
            "Array of ones with same shape as example_array:\n",
            " [[1 1]\n",
            " [1 1]]\n",
            "\n",
            "Converted numpy array from list:\n",
            " [1 2 3 4]\n"
          ]
        }
      ]
    },
    {
      "cell_type": "markdown",
      "source": [
        "Complete the following tasks:\n",
        "1. Create an array with values ranging from 10 to 49. {Hint:np.arrange()}.\n",
        "2. Create a 3X3 matrix with values ranging from 0 to 8.\n",
        "{Hint:look for np.reshape()}\n",
        "3. Create a 3X3 identity matrix.{Hint:np.eye()}\n",
        "4. Create a random array of size 30 and find the mean of the array.\n",
        "{Hint:check for np.random.random() and array.mean() function}\n",
        "5. Create a 10X10 array with random values and find the minimum and maximum values.\n",
        "6. Create a zero array of size 10 and replace 5th element with 1.\n",
        "7. Reverse an array arr = [1,2,0,0,4,0].\n",
        "8. Create a 2d array with 1 on border and 0 inside.\n",
        "9. Create a 8X8 matrix and fill it with a checkerboard pattern."
      ],
      "metadata": {
        "id": "dRAg4j4VVT_y"
      }
    },
    {
      "cell_type": "code",
      "source": [
        "import numpy as np\n",
        "\n",
        "# 1. Create an array with values ranging from 10 to 49\n",
        "array_range = np.arange(10, 50)\n",
        "print(\"Array ranging from 10 to 49:\\n\", array_range)\n",
        "\n",
        "# 2. Create a 3x3 matrix with values ranging from 0 to 8\n",
        "matrix_3x3 = np.arange(9).reshape(3, 3)\n",
        "print(\"\\n3x3 matrix with values from 0 to 8:\\n\", matrix_3x3)\n",
        "\n",
        "# 3. Create a 3x3 identity matrix\n",
        "identity_matrix = np.eye(3)\n",
        "print(\"\\n3x3 Identity matrix:\\n\", identity_matrix)\n",
        "\n",
        "# 4. Create a random array of size 30 and find the mean\n",
        "random_array = np.random.random(30)\n",
        "mean_value = random_array.mean()\n",
        "print(\"\\nRandom array of size 30:\\n\", random_array)\n",
        "print(\"Mean of the array:\", mean_value)\n",
        "\n",
        "# 5. Create a 10x10 array with random values and find the min and max values\n",
        "array = np.random.randint(0, 23, size=(10, 10))\n",
        "print(array)\n",
        "min_val = array.min()\n",
        "max_val = array.max()\n",
        "print(\"Minimum value:\", min_val)\n",
        "print(\"Maximum value:\", max_val)\n",
        "\n",
        "# 6. Create a zero array of size 10 and replace the 5th element with 1\n",
        "zero_array = np.zeros(10)\n",
        "zero_array[4] = 1  # Index 4 corresponds to the 5th element\n",
        "print(\"\\nZero array with 5th element replaced by 1:\\n\", zero_array)\n",
        "\n",
        "# 7. Reverse an array arr = [1, 2, 0, 0, 4, 0]\n",
        "arr = np.array([1, 2, 0, 0, 4, 0])\n",
        "reversed_array = arr[::-1]\n",
        "print(\"\\nReversed array:\\n\", reversed_array)\n",
        "\n",
        "# 8. Create a 2D array with 1 on the border and 0 inside\n",
        "border_array = np.ones((5, 5))\n",
        "border_array[1:-1, 1:-1] = 0\n",
        "print(\"\\n2D array with border 1 and inside 0:\\n\", border_array)\n",
        "\n",
        "# 9. Create an 8x8 matrix and fill it with a checkerboard pattern\n",
        "checkerboard = np.zeros((8, 8), dtype=int)\n",
        "checkerboard[1::2, ::2] = 1  # Fill 1s in alternate cells starting from (1, 0)\n",
        "checkerboard[::2, 1::2] = 1  # Fill 1s in alternate cells starting from (0, 1)\n",
        "print(\"\\n8x8 Checkerboard pattern:\\n\", checkerboard)\n"
      ],
      "metadata": {
        "colab": {
          "base_uri": "https://localhost:8080/"
        },
        "id": "QTU2e7vRVUxK",
        "outputId": "4cdf3f1f-3a57-4dc9-aca0-6047a334ab3f"
      },
      "execution_count": null,
      "outputs": [
        {
          "output_type": "stream",
          "name": "stdout",
          "text": [
            "Array ranging from 10 to 49:\n",
            " [10 11 12 13 14 15 16 17 18 19 20 21 22 23 24 25 26 27 28 29 30 31 32 33\n",
            " 34 35 36 37 38 39 40 41 42 43 44 45 46 47 48 49]\n",
            "\n",
            "3x3 matrix with values from 0 to 8:\n",
            " [[0 1 2]\n",
            " [3 4 5]\n",
            " [6 7 8]]\n",
            "\n",
            "3x3 Identity matrix:\n",
            " [[1. 0. 0.]\n",
            " [0. 1. 0.]\n",
            " [0. 0. 1.]]\n",
            "\n",
            "Random array of size 30:\n",
            " [0.16519598 0.64917889 0.90555403 0.42333916 0.75680518 0.64237855\n",
            " 0.53815188 0.58769295 0.97538657 0.23138956 0.96313392 0.76748528\n",
            " 0.80468288 0.5162975  0.25296946 0.85499246 0.8516017  0.56223526\n",
            " 0.49640401 0.45657059 0.09894669 0.25794155 0.63584796 0.77711129\n",
            " 0.41685773 0.17740801 0.83855488 0.11120128 0.56176392 0.80844623]\n",
            "Mean of the array: 0.5695175114678738\n",
            "[[ 1 19 10 11 16  6  9 13 10  5]\n",
            " [ 5 17  3 19  5 13 20  2 17  8]\n",
            " [ 5 10 13  4 17 18 10 22  0 17]\n",
            " [ 6 12 22 18 19  4  5  9  0 14]\n",
            " [20  6 17  2 13  7  5 20  5  4]\n",
            " [19  1 21  6 21  2 19 13 21 18]\n",
            " [ 5 11 15 11  5 11  0  7  3  8]\n",
            " [ 4  9 16  5 10  8 11  6  1 13]\n",
            " [ 9  9 17 17  9  2  1  9 17 20]\n",
            " [18  4 15  2  9 10 14  3  7  9]]\n",
            "Minimum value: 0\n",
            "Maximum value: 22\n",
            "\n",
            "Zero array with 5th element replaced by 1:\n",
            " [0. 0. 0. 0. 1. 0. 0. 0. 0. 0.]\n",
            "\n",
            "Reversed array:\n",
            " [0 4 0 0 2 1]\n",
            "\n",
            "2D array with border 1 and inside 0:\n",
            " [[1. 1. 1. 1. 1.]\n",
            " [1. 0. 0. 0. 1.]\n",
            " [1. 0. 0. 0. 1.]\n",
            " [1. 0. 0. 0. 1.]\n",
            " [1. 1. 1. 1. 1.]]\n",
            "\n",
            "8x8 Checkerboard pattern:\n",
            " [[0 1 0 1 0 1 0 1]\n",
            " [1 0 1 0 1 0 1 0]\n",
            " [0 1 0 1 0 1 0 1]\n",
            " [1 0 1 0 1 0 1 0]\n",
            " [0 1 0 1 0 1 0 1]\n",
            " [1 0 1 0 1 0 1 0]\n",
            " [0 1 0 1 0 1 0 1]\n",
            " [1 0 1 0 1 0 1 0]]\n"
          ]
        }
      ]
    },
    {
      "cell_type": "markdown",
      "source": [
        "Problem - 3: Array Operations:\n",
        "For the following arrays:\n",
        "x = np.array([[1,2],[3,5]]) and y = np.array([[5,6],[7,8]]);\n",
        "v = np.array([9,10]) and w = np.array([11,12]);\n",
        "Complete all the task using numpy:\n",
        "1. Add the two array.\n",
        "2. Subtract the two array.\n",
        "3. Multiply the array with any integers of your choice.\n",
        "4. Find the square of each element of the array.\n",
        "5. Find the dot product between: v(and)w ; x(and)v ; x(and)y.\n",
        "6. Concatenate x(and)y along row and Concatenate v(and)w along column.\n",
        "{Hint:try np.concatenate() or np.vstack() functions.\n",
        "7. Concatenate x(and)v; if you get an error, observe and explain why did you get the error?"
      ],
      "metadata": {
        "id": "d-mxyqdFVlWi"
      }
    },
    {
      "cell_type": "code",
      "source": [
        "import numpy as np\n",
        "\n",
        "# Given arrays\n",
        "x = np.array([[1, 2], [3, 5]])\n",
        "y = np.array([[5, 6], [7, 8]])\n",
        "v = np.array([9, 10])\n",
        "w = np.array([11, 12])\n",
        "\n",
        "# 1. Add the two arrays\n",
        "add_arrays = x + y\n",
        "print(\"1. Addition of x and y:\\n\", add_arrays)\n",
        "\n",
        "# 2. Subtract the two arrays\n",
        "subtract_arrays = x - y\n",
        "print(\"\\n2. Subtraction of x and y:\\n\", subtract_arrays)\n",
        "\n",
        "# 3. Multiply the array `x` with an integer (e.g., 3)\n",
        "multiply_array = x * 3\n",
        "print(\"\\n3. Multiplication of x with 3:\\n\", multiply_array)\n",
        "\n",
        "# 4. Find the square of each element of `x`\n",
        "square_array = x ** 2\n",
        "print(\"\\n4. Square of each element in x:\\n\", square_array)\n",
        "\n",
        "# 5. Find the dot product\n",
        "# Dot product of v and w\n",
        "dot_product_vw = np.dot(v, w)\n",
        "print(\"\\n5a. Dot product of v and w:\", dot_product_vw)\n",
        "\n",
        "# Dot product of x and v\n",
        "dot_product_xv = np.dot(x, v)\n",
        "print(\"5b. Dot product of x and v:\\n\", dot_product_xv)\n",
        "\n",
        "# Dot product of x and y\n",
        "dot_product_xy = np.dot(x, y)\n",
        "print(\"5c. Dot product of x and y:\\n\", dot_product_xy)\n",
        "\n",
        "# 6. Concatenate x and y along rows; concatenate v and w along columns\n",
        "concat_xy = np.concatenate((x, y), axis=0)  # Along rows\n",
        "concat_vw = np.vstack((v, w))  # Vertically stacks v and w\n",
        "print(\"\\n6a. Concatenation of x and y along rows:\\n\", concat_xy)\n",
        "print(\"6b. Concatenation of v and w along columns:\\n\", concat_vw)\n",
        "\n",
        "# 7. Concatenate x and v\n",
        "try:\n",
        "    concat_xv = np.concatenate((x, v), axis=0)\n",
        "    print(\"\\n7. Concatenation of x and v:\\n\", concat_xv)\n",
        "except ValueError as e:\n",
        "    print(\"\\n7. Error during concatenation of x and v:\")\n",
        "    print(e)\n",
        "    print(\"Explanation: `x` is a 2D array (shape 2x2), while `v` is a 1D array (shape 2). \"\n",
        "          \"Their dimensions are incompatible for direct concatenation along the specified axis.\")\n"
      ],
      "metadata": {
        "colab": {
          "base_uri": "https://localhost:8080/"
        },
        "id": "dzn5cBCnV6ja",
        "outputId": "162d8dd7-80ba-489e-b5bd-934c6b9d189e"
      },
      "execution_count": null,
      "outputs": [
        {
          "output_type": "stream",
          "name": "stdout",
          "text": [
            "1. Addition of x and y:\n",
            " [[ 6  8]\n",
            " [10 13]]\n",
            "\n",
            "2. Subtraction of x and y:\n",
            " [[-4 -4]\n",
            " [-4 -3]]\n",
            "\n",
            "3. Multiplication of x with 3:\n",
            " [[ 3  6]\n",
            " [ 9 15]]\n",
            "\n",
            "4. Square of each element in x:\n",
            " [[ 1  4]\n",
            " [ 9 25]]\n",
            "\n",
            "5a. Dot product of v and w: 219\n",
            "5b. Dot product of x and v:\n",
            " [29 77]\n",
            "5c. Dot product of x and y:\n",
            " [[19 22]\n",
            " [50 58]]\n",
            "\n",
            "6a. Concatenation of x and y along rows:\n",
            " [[1 2]\n",
            " [3 5]\n",
            " [5 6]\n",
            " [7 8]]\n",
            "6b. Concatenation of v and w along columns:\n",
            " [[ 9 10]\n",
            " [11 12]]\n",
            "\n",
            "7. Error during concatenation of x and v:\n",
            "all the input arrays must have same number of dimensions, but the array at index 0 has 2 dimension(s) and the array at index 1 has 1 dimension(s)\n",
            "Explanation: `x` is a 2D array (shape 2x2), while `v` is a 1D array (shape 2). Their dimensions are incompatible for direct concatenation along the specified axis.\n"
          ]
        }
      ]
    },
    {
      "cell_type": "code",
      "source": [
        "import numpy as np\n",
        "\n",
        "# Given matrices\n",
        "A = np.array([[3, 4], [7, 8]])\n",
        "B = np.array([[5, 3], [2, 1]])\n",
        "\n",
        "# 1. Prove A.A^(-1) = I\n",
        "A_inv = np.linalg.inv(A)  # Find inverse of A\n",
        "identity_matrix = np.dot(A, A_inv)  # Multiply A with its inverse\n",
        "print(\"1. A * A^(-1) = I:\\n\", identity_matrix)\n",
        "print(\"Is A * A^(-1) equal to I?\", np.allclose(identity_matrix, np.eye(2)))\n",
        "\n",
        "# 2. Prove AB ≠ BA\n",
        "AB = np.dot(A, B)\n",
        "BA = np.dot(B, A)\n",
        "print(\"\\n2. AB:\\n\", AB)\n",
        "print(\"BA:\\n\", BA)\n",
        "print(\"Is AB equal to BA?\", np.array_equal(AB, BA))  # AB != BA (in general for non-commutative matrices)\n",
        "\n",
        "# 3. Prove (AB)^T = B^T * A^T\n",
        "AB_T = np.transpose(AB)  # Transpose of AB\n",
        "BT_AT = np.dot(B.T, A.T)  # Multiply transpose of B and A\n",
        "print(\"\\n3. (AB)^T:\\n\", AB_T)\n",
        "print(\"B^T * A^T:\\n\", BT_AT)\n",
        "print(\"Is (AB)^T equal to B^T * A^T?\", np.allclose(AB_T, BT_AT))\n"
      ],
      "metadata": {
        "colab": {
          "base_uri": "https://localhost:8080/"
        },
        "id": "fHZzWzNqWVfY",
        "outputId": "574450c3-7abb-44df-e941-16a5140e6e70"
      },
      "execution_count": null,
      "outputs": [
        {
          "output_type": "stream",
          "name": "stdout",
          "text": [
            "1. A * A^(-1) = I:\n",
            " [[1.00000000e+00 0.00000000e+00]\n",
            " [1.77635684e-15 1.00000000e+00]]\n",
            "Is A * A^(-1) equal to I? True\n",
            "\n",
            "2. AB:\n",
            " [[23 13]\n",
            " [51 29]]\n",
            "BA:\n",
            " [[36 44]\n",
            " [13 16]]\n",
            "Is AB equal to BA? False\n",
            "\n",
            "3. (AB)^T:\n",
            " [[23 51]\n",
            " [13 29]]\n",
            "B^T * A^T:\n",
            " [[23 51]\n",
            " [13 29]]\n",
            "Is (AB)^T equal to B^T * A^T? True\n"
          ]
        }
      ]
    },
    {
      "cell_type": "code",
      "source": [
        "# Coefficient matrix A\n",
        "A = np.array([\n",
        "    [2, -3, 1],\n",
        "    [1, -1, 2],\n",
        "    [3, 1, -1]\n",
        "])\n",
        "\n",
        "# Constant matrix B\n",
        "B = np.array([-1, -3, 9])\n",
        "\n",
        "# Solve for X using np.linalg.inv (inverse method)\n",
        "A_inv = np.linalg.inv(A)  # Compute inverse of A\n",
        "X = np.dot(A_inv, B)  # Solve for X using A_inv * B\n",
        "print(\"\\nSolution using inverse method:\")\n",
        "print(\"x, y, z =\", X)\n",
        "# Solve using np.linalg.solve (direct method, numerically stable)\n",
        "X_solve = np.linalg.solve(A, B)\n",
        "print(\"\\nSolution using np.linalg.solve:\")\n",
        "print(\"x, y, z =\", X_solve)\n"
      ],
      "metadata": {
        "colab": {
          "base_uri": "https://localhost:8080/"
        },
        "id": "6zJpEP7sWb0x",
        "outputId": "77c483d3-e87a-4f0b-d431-a7e2281480ea"
      },
      "execution_count": null,
      "outputs": [
        {
          "output_type": "stream",
          "name": "stdout",
          "text": [
            "\n",
            "Solution using inverse method:\n",
            "x, y, z = [ 2.  1. -2.]\n",
            "\n",
            "Solution using np.linalg.solve:\n",
            "x, y, z = [ 2.  1. -2.]\n"
          ]
        }
      ]
    },
    {
      "cell_type": "code",
      "source": [],
      "metadata": {
        "id": "p33zH9S5c4aa"
      },
      "execution_count": null,
      "outputs": []
    }
  ]
}